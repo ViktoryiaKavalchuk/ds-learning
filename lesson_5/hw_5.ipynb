{
 "cells": [
  {
   "cell_type": "code",
   "execution_count": 25,
   "id": "cb2fb82d-9158-44c5-953f-34c6168cd1ba",
   "metadata": {},
   "outputs": [
    {
     "data": {
      "text/plain": [
       "['Jack', 'John', 'Joe']"
      ]
     },
     "execution_count": 25,
     "metadata": {},
     "output_type": "execute_result"
    }
   ],
   "source": [
    "# Task 1\n",
    "\n",
    "def transform_in_list(string: str):\n",
    "    return string.split(' ')\n",
    "\n",
    "transform_in_list(\"Jack John Joe\")"
   ]
  },
  {
   "cell_type": "code",
   "execution_count": 26,
   "id": "db0adb52-b07e-4471-9ac6-e81382bc41a1",
   "metadata": {},
   "outputs": [
    {
     "data": {
      "text/plain": [
       "2"
      ]
     },
     "execution_count": 26,
     "metadata": {},
     "output_type": "execute_result"
    }
   ],
   "source": [
    "# Task 2\n",
    "\n",
    "import math\n",
    "\n",
    "def count_litres(hours: int):\n",
    "    return math.floor(hours * 0.5)\n",
    "\n",
    "count_litres(4)"
   ]
  },
  {
   "cell_type": "code",
   "execution_count": 27,
   "id": "17ab5695-108b-484f-9dbd-fead57bf6198",
   "metadata": {},
   "outputs": [
    {
     "data": {
      "text/plain": [
       "[5, 4, 3, 2, 1]"
      ]
     },
     "execution_count": 27,
     "metadata": {},
     "output_type": "execute_result"
    }
   ],
   "source": [
    "# Task 3\n",
    "\n",
    "def build_list(from_number: int):\n",
    "    return [number for number in range(from_number, 0, -1)]\n",
    "\n",
    "build_list(5)"
   ]
  },
  {
   "cell_type": "code",
   "execution_count": 28,
   "id": "d4570c85-8596-47d0-bb30-842b65a5c746",
   "metadata": {},
   "outputs": [
    {
     "data": {
      "text/plain": [
       "19"
      ]
     },
     "execution_count": 28,
     "metadata": {},
     "output_type": "execute_result"
    }
   ],
   "source": [
    "# Task 4\n",
    "\n",
    "def get_century(year: int):\n",
    "    if year % 100 == 0:\n",
    "        return year // 100\n",
    "    else:\n",
    "        return year // 100 + 1\n",
    "\n",
    "get_century(1900)"
   ]
  },
  {
   "cell_type": "code",
   "execution_count": 29,
   "id": "55169ff0-d728-4067-b3f8-abada9cedb7c",
   "metadata": {},
   "outputs": [
    {
     "data": {
      "text/plain": [
       "[1, 3, 2, 5, 3]"
      ]
     },
     "execution_count": 29,
     "metadata": {},
     "output_type": "execute_result"
    }
   ],
   "source": [
    "# Task 5\n",
    "\n",
    "def split_and_build_list(number: int):\n",
    "    digit_list = list(str(number))\n",
    "    digit_list.reverse()\n",
    "    return [int(digit) for digit in digit_list]\n",
    "\n",
    "split_and_build_list(35231)"
   ]
  },
  {
   "cell_type": "code",
   "execution_count": 30,
   "id": "94e8a4ce-0017-488a-94c0-81409373a8ee",
   "metadata": {},
   "outputs": [
    {
     "name": "stdout",
     "output_type": "stream",
     "text": [
      "original matrix\n",
      "[1, 2, 3, 4, 5]\n",
      "[6, 7, 8, 9, 10]\n",
      "[11, 12, 13, 14, 15]\n",
      "[16, 17, 18, 19, 20]\n",
      "[21, 22, 23, 24, 25]\n",
      "\n",
      "horizontal snake:\n",
      "[1, 2, 3, 4, 5]\n",
      "[10, 9, 8, 7, 6]\n",
      "[11, 12, 13, 14, 15]\n",
      "[20, 19, 18, 17, 16]\n",
      "[21, 22, 23, 24, 25]\n",
      "\n",
      "vertical snake:\n",
      "[1, 10, 11, 20, 21]\n",
      "[2, 9, 12, 19, 22]\n",
      "[3, 8, 13, 18, 23]\n",
      "[4, 7, 14, 17, 24]\n",
      "[5, 6, 15, 16, 25]\n",
      "\n",
      "vertical snake with reverse():\n",
      "[1, 10, 11, 20, 21]\n",
      "[2, 9, 12, 19, 22]\n",
      "[3, 8, 13, 18, 23]\n",
      "[4, 7, 14, 17, 24]\n",
      "[5, 6, 15, 16, 25]\n",
      "\n",
      "labyrinth:\n",
      "[1, 2, 3, 4, 5]\n",
      "[16, 17, 18, 19, 6]\n",
      "[15, 24, 25, 20, 7]\n",
      "[14, 23, 22, 21, 8]\n",
      "[13, 12, 11, 10, 9]\n"
     ]
    }
   ],
   "source": [
    "# Task 6\n",
    "\n",
    "def build_matrix(matrix_size: int):\n",
    "    matrix: list = []\n",
    "    row: list = []\n",
    "    for row_index in range(1, matrix_size ** 2 + 1):\n",
    "        row.append(row_index)\n",
    "        if row_index % matrix_size == 0:\n",
    "            matrix.append(row)\n",
    "            row = []\n",
    "    return matrix\n",
    "\n",
    "def make_horizontal_snake(matrix: list):\n",
    "    horizontal_snake_matrix = []\n",
    "    for index, row in enumerate(matrix):\n",
    "        if index % 2 == 1:\n",
    "            reversed_row = []\n",
    "            for element_index in range(len(row) - 1, -1, -1):\n",
    "                reversed_row.append(row[element_index])\n",
    "            horizontal_snake_matrix.append(reversed_row)\n",
    "        else:\n",
    "            horizontal_snake_matrix.append(row)\n",
    "            \n",
    "    return horizontal_snake_matrix\n",
    "\n",
    "def make_vertical_snake(matrix: list):    \n",
    "    vertical_snake_matrix = [[] for _ in range(len(matrix))]\n",
    "    for row_index, row_value in enumerate(matrix):\n",
    "        if row_index % 2 == 0:\n",
    "            for column_index, number_value in enumerate(row_value):\n",
    "                vertical_snake_matrix[column_index].append(number_value)\n",
    "        else:\n",
    "            for element_index in range(len(row_value) - 1, -1, -1):\n",
    "                vertical_snake_matrix[len(row_value) - element_index - 1].append(row_value[element_index])\n",
    "            \n",
    "    \n",
    "    return vertical_snake_matrix\n",
    "\n",
    "def make_vertical_snake_with_reverse(matrix: list):    \n",
    "    vertical_snake_matrix = [[] for _ in range(len(matrix))]\n",
    "    for row_index, row_value in enumerate(matrix):\n",
    "        if row_index % 2 == 0:\n",
    "            row_value_to_enumerate = row_value\n",
    "        else:\n",
    "            row_value_to_enumerate = reversed(row_value)\n",
    "            \n",
    "        for column_index, number_value in enumerate(row_value_to_enumerate):\n",
    "                vertical_snake_matrix[column_index].append(number_value)\n",
    "    \n",
    "    return vertical_snake_matrix\n",
    "\n",
    "def make_labyrinth(matrix: list):   \n",
    "    matrix_size = len(matrix)\n",
    "\n",
    "    labyrinth_matrix = [[None for _ in range(matrix_size)] for _ in range(matrix_size)]\n",
    "    flat_matrix = [value for row in matrix for value in row]\n",
    "\n",
    "    current_row = 0\n",
    "    current_column = matrix_size - 1\n",
    "    current_iteration = 'left->right'\n",
    "    for number in flat_matrix:        \n",
    "        if current_iteration == 'left->right':\n",
    "            empty_columns = get_column_indexes_with_empty_value(labyrinth_matrix[current_row], matrix_size)\n",
    "            labyrinth_matrix[current_row][empty_columns[0]] = number\n",
    "            \n",
    "            if len(empty_columns) == 1:\n",
    "                current_iteration = 'top->bottom'\n",
    "                current_column = empty_columns[0]\n",
    "        elif current_iteration == 'top->bottom':\n",
    "            empty_rows = get_row_indexes_with_empty_value(labyrinth_matrix, current_column, matrix_size)\n",
    "            labyrinth_matrix[empty_rows[0]][current_column] = number\n",
    "            \n",
    "            if len(empty_rows) == 1:\n",
    "                current_iteration = 'right->left'\n",
    "                current_row = empty_rows[0]\n",
    "        elif current_iteration == 'right->left':\n",
    "            empty_columns = get_column_indexes_with_empty_value(labyrinth_matrix[current_row], matrix_size)\n",
    "            empty_columns = list(reversed(empty_columns))\n",
    "            labyrinth_matrix[current_row][empty_columns[0]] = number\n",
    "            \n",
    "            if len(empty_columns) == 1:\n",
    "                current_iteration = 'bottom->top'\n",
    "                current_column = empty_columns[0]\n",
    "        else:\n",
    "            empty_rows = get_row_indexes_with_empty_value(labyrinth_matrix, current_column, matrix_size)\n",
    "            empty_rows = list(reversed(empty_rows))\n",
    "            labyrinth_matrix[empty_rows[0]][current_column] = number\n",
    "            \n",
    "            if len(empty_rows) == 1:\n",
    "                current_iteration = 'left->right'\n",
    "                current_row = empty_rows[0]\n",
    "        \n",
    "    return labyrinth_matrix\n",
    "\n",
    "def get_column_indexes_with_empty_value(row: list, expected_size: int):\n",
    "    result = []\n",
    "    for index in range(expected_size):\n",
    "        if row[index] == None:\n",
    "            result.append(index)\n",
    "\n",
    "    return result\n",
    "\n",
    "def get_row_indexes_with_empty_value(matrix: list, column_to_check: int, expected_size: int):\n",
    "    result = []\n",
    "    for row_index, row_value in enumerate(matrix):\n",
    "        if row_value[column_to_check] == None:\n",
    "            result.append(row_index)\n",
    "\n",
    "    return result\n",
    "    \n",
    "matrix_size: int = 5\n",
    "matrix = build_matrix(matrix_size)\n",
    "print(\"original matrix\")\n",
    "for index, value in enumerate(matrix):\n",
    "    print(value)\n",
    "\n",
    "print(\"\\nhorizontal snake:\")\n",
    "for index, value in enumerate(make_horizontal_snake(matrix)):\n",
    "    print(value)\n",
    "\n",
    "print(\"\\nvertical snake:\")\n",
    "for index, value in enumerate(make_vertical_snake(matrix)):\n",
    "    print(value)\n",
    "\n",
    "print(\"\\nvertical snake with reverse():\")\n",
    "for index, value in enumerate(make_vertical_snake_with_reverse(matrix)):\n",
    "    print(value)\n",
    "\n",
    "print(\"\\nlabyrinth:\")\n",
    "for index, value in enumerate(make_labyrinth(matrix)):\n",
    "    print(value)"
   ]
  },
  {
   "cell_type": "code",
   "execution_count": null,
   "id": "ea802891-e11d-49be-8b4a-a415c9823e1f",
   "metadata": {},
   "outputs": [],
   "source": []
  }
 ],
 "metadata": {
  "kernelspec": {
   "display_name": "Python [conda env:base] *",
   "language": "python",
   "name": "conda-base-py"
  },
  "language_info": {
   "codemirror_mode": {
    "name": "ipython",
    "version": 3
   },
   "file_extension": ".py",
   "mimetype": "text/x-python",
   "name": "python",
   "nbconvert_exporter": "python",
   "pygments_lexer": "ipython3",
   "version": "3.13.5"
  }
 },
 "nbformat": 4,
 "nbformat_minor": 5
}
