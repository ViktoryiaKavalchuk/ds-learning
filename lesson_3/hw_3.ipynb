{
 "cells": [
  {
   "cell_type": "code",
   "execution_count": 49,
   "id": "5b161e25-3d41-49b6-8aa4-e9c7519dc4e5",
   "metadata": {},
   "outputs": [
    {
     "name": "stdout",
     "output_type": "stream",
     "text": [
      "Equation 1 result = [10.0, 2.0]\n",
      "Equation 2 result = [-8.0, -9.0]\n",
      "Equation 3 result = [11.0, -4.0]\n",
      "Equation 4 result = [-1.0, -8.0]\n",
      "Equation 5 result = [9.0, -7.0]\n",
      "Equation 6 result = [3.0, -3.0, 1.7320508075688772, -1.7320508075688772]\n"
     ]
    }
   ],
   "source": [
    "# Task 1\n",
    "\n",
    "def solve_simple_quadratic_equation(a: int, b: int, c: int):\n",
    "    result: list = []\n",
    "    \n",
    "    discriminant = b ** 2 - 4 * a * c\n",
    "    if discriminant > 0:\n",
    "        result_1 = (-1 * b + (discriminant ** 0.5)) / (a * 2)\n",
    "        result.append(result_1)\n",
    "\n",
    "        result_2 = (-1 * b - (discriminant ** 0.5)) / (a * 2)\n",
    "        result.append(result_2)\n",
    "    elif discriminant == 0:\n",
    "        result_one = (-1 * b) / (a * 2)\n",
    "        result.append(result_one)\n",
    "\n",
    "    return result\n",
    "\n",
    "def solve_complex_quadratic_equation(a: int, b: int, c: int, inner_ratio: int):\n",
    "    result: list = []\n",
    "\n",
    "    intermediate_result: list = solve_simple_quadratic_equation(a, b, c)\n",
    "\n",
    "    for value in intermediate_result:\n",
    "        value -= inner_ratio\n",
    "\n",
    "        if value >= 0:\n",
    "            result.append(value ** 0.5)\n",
    "            result.append(value ** 0.5 * -1)\n",
    "        \n",
    "    return result\n",
    "\n",
    "equation_1_result = solve_simple_quadratic_equation(1, -12, 20)\n",
    "print(f\"Equation 1 result = {equation_1_result}\")\n",
    "\n",
    "equation_2_result = solve_simple_quadratic_equation(1, 17, 72)\n",
    "print(f\"Equation 2 result = {equation_2_result}\")\n",
    "\n",
    "equation_3_result = solve_simple_quadratic_equation(1, -7, -44)\n",
    "print(f\"Equation 3 result = {equation_3_result}\")\n",
    "\n",
    "equation_4_result = solve_simple_quadratic_equation(1, 9, 8)\n",
    "print(f\"Equation 4 result = {equation_4_result}\")\n",
    "\n",
    "equation_5_result = solve_simple_quadratic_equation(1, -2, -63)\n",
    "print(f\"Equation 5 result = {equation_5_result}\")\n",
    "\n",
    "equation_6_result = solve_complex_quadratic_equation(1, 4, -5, -8)\n",
    "print(f\"Equation 6 result = {equation_6_result}\")"
   ]
  },
  {
   "cell_type": "code",
   "execution_count": 50,
   "id": "731d743a-aca3-4f89-9254-b0f407a64b60",
   "metadata": {},
   "outputs": [
    {
     "name": "stdout",
     "output_type": "stream",
     "text": [
      "Solution 1 result - [21, 13, 8, 5, 3, 2, 2, 1]\n",
      "Solution 2 result - [21, 13, 8, 5, 3, 2, 2, 1]\n",
      "Solution 3 result - [21, 13, 8, 5, 3, 2, 2, 1]\n"
     ]
    }
   ],
   "source": [
    "# Task 2\n",
    "\n",
    "# Solution 1 - my init solution\n",
    "original_list: list = [1, 2, 2, 3, 5, 8, 13, 21]\n",
    "bacward_order_list: list = []\n",
    "\n",
    "for index in range(len(original_list) - 1, -1, -1):\n",
    "    bacward_order_list.append(original_list[index])\n",
    "\n",
    "print(f\"Solution 1 result - {bacward_order_list}\")\n",
    "\n",
    "# Solution 2 - using prebuilt functions (googled for curiosity to have more optimized version)\n",
    "bacward_order_list = list(reversed(original_list))\n",
    "print(f\"Solution 2 result - {bacward_order_list}\")\n",
    "\n",
    "# Solution 2 - using python functionality (googled for curiosity to have more optimized version)\n",
    "bacward_order_list = original_list[::-1]\n",
    "print(f\"Solution 3 result - {bacward_order_list}\")"
   ]
  },
  {
   "cell_type": "code",
   "execution_count": 51,
   "id": "f9e58d44-35af-40ca-a8ae-abe2a3c3eac8",
   "metadata": {},
   "outputs": [
    {
     "data": {
      "text/plain": [
       "[5, 2, 3, 4, 1]"
      ]
     },
     "execution_count": 51,
     "metadata": {},
     "output_type": "execute_result"
    }
   ],
   "source": [
    "# Task 3\n",
    "\n",
    "lst: list = [1, 2, 3, 4, 5]\n",
    "\n",
    "def change(lst: list):\n",
    "    last_index = len(lst) - 1\n",
    "    \n",
    "    first_value = lst[0]\n",
    "    last_value = lst[last_index]\n",
    "    \n",
    "    lst[0] = last_value\n",
    "    lst[last_index] = first_value\n",
    "\n",
    "    return lst\n",
    "\n",
    "result = change(lst)\n",
    "result"
   ]
  },
  {
   "cell_type": "code",
   "execution_count": 52,
   "id": "d9206660-03f8-45da-bc86-fbc7151c205d",
   "metadata": {},
   "outputs": [
    {
     "data": {
      "text/plain": [
       "33.6"
      ]
     },
     "execution_count": 52,
     "metadata": {},
     "output_type": "execute_result"
    }
   ],
   "source": [
    "# Task 4\n",
    "\n",
    "original_list: list[int] = [22, 17, 168, 0, -27]\n",
    "\n",
    "def useless(original_list: list[int]):\n",
    "    max_number = original_list[0];\n",
    "\n",
    "    for number in original_list:\n",
    "        if number > max_number:\n",
    "            max_number = number\n",
    "\n",
    "    return max_number / len(original_list)\n",
    "\n",
    "result = useless(original_list)\n",
    "result"
   ]
  },
  {
   "cell_type": "code",
   "execution_count": 54,
   "id": "fe9a6de2-24ea-4d4e-8da4-143f37a73c18",
   "metadata": {},
   "outputs": [
    {
     "data": {
      "text/plain": [
       "['Hello, World!_____________',\n",
       " 'How are you?______________',\n",
       " 'Are you ready to have fun?',\n",
       " \"Let's go!_________________\"]"
      ]
     },
     "execution_count": 54,
     "metadata": {},
     "output_type": "execute_result"
    }
   ],
   "source": [
    "# Task 5\n",
    "\n",
    "string_list: list[str] = [\"Hello, World!\", \"How are you?\", \"Are you ready to have fun?\", \"Let's go!\"]\n",
    "\n",
    "def all_eq(string_list: list[str]):\n",
    "    result_list: list[str] = []\n",
    "\n",
    "    max_length = len(string_list[0])\n",
    "    for string in string_list:\n",
    "        if len(string) > max_length:\n",
    "            max_length = len(string)\n",
    "\n",
    "    for index in range(len(string_list)):\n",
    "        result_list.append(string_list[index].ljust(max_length, '_'))\n",
    "\n",
    "    return result_list\n",
    "        \n",
    "result_list = all_eq(string_list)\n",
    "result_list"
   ]
  }
 ],
 "metadata": {
  "kernelspec": {
   "display_name": "Python [conda env:base] *",
   "language": "python",
   "name": "conda-base-py"
  },
  "language_info": {
   "codemirror_mode": {
    "name": "ipython",
    "version": 3
   },
   "file_extension": ".py",
   "mimetype": "text/x-python",
   "name": "python",
   "nbconvert_exporter": "python",
   "pygments_lexer": "ipython3",
   "version": "3.13.5"
  }
 },
 "nbformat": 4,
 "nbformat_minor": 5
}
