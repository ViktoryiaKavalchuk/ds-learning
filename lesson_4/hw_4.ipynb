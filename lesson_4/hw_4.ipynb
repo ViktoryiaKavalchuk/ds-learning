{
 "cells": [
  {
   "cell_type": "code",
   "execution_count": 27,
   "id": "bff895d1-6b1e-4984-9e43-8cc8b8000532",
   "metadata": {},
   "outputs": [
    {
     "data": {
      "text/plain": [
       "2.775368323057839"
      ]
     },
     "execution_count": 27,
     "metadata": {},
     "output_type": "execute_result"
    }
   ],
   "source": [
    "# Task 1\n",
    "\n",
    "import math\n",
    "\n",
    "def calculate_value(x: float) -> float:\n",
    "    cos_e_x_part: float = math.cos(math.e ** x)\n",
    "    ln_part: float = math.log(1 + x) ** 2\n",
    "    square_root_with_sin_cos_part: float = (math.e ** math.cos(x) + math.sin(math.pi * x) ** 2) ** 0.5\n",
    "    square_root_with_x_part: float = (1 / x) ** 0.5\n",
    "    cos_part: float = math.cos(x ** 2)\n",
    "    return (cos_e_x_part + ln_part + square_root_with_sin_cos_part + square_root_with_x_part + cos_part) ** math.sin(x)\n",
    "\n",
    "x = 1.79\n",
    "calculate_value(x)"
   ]
  },
  {
   "cell_type": "code",
   "execution_count": 26,
   "id": "1294cc96-c33d-446a-8362-fb6d321035d8",
   "metadata": {},
   "outputs": [
    {
     "name": "stdout",
     "output_type": "stream",
     "text": [
      "Есть контакт!\n",
      "Мимо!\n"
     ]
    }
   ],
   "source": [
    "# Task 2\n",
    "\n",
    "def search_substr(subst: str, st: str) -> str:\n",
    "    result: str = 'Мимо!'\n",
    "    if st.casefold().find(subst.casefold()) != -1:\n",
    "        result = 'Есть контакт!'\n",
    "    \n",
    "    return result\n",
    "\n",
    "print(search_substr('WORLD strING', 'Hello World string'))\n",
    "print(search_substr('WORLD strING!', 'Hello World string'))"
   ]
  },
  {
   "cell_type": "code",
   "execution_count": 22,
   "id": "20e3277d-8b52-4a09-890b-46d097e35cf8",
   "metadata": {},
   "outputs": [
    {
     "data": {
      "text/plain": [
       "[('l', 3), ('o', 2), ('H', 1)]"
      ]
     },
     "execution_count": 22,
     "metadata": {},
     "output_type": "execute_result"
    }
   ],
   "source": [
    "# Task 3\n",
    "\n",
    "from collections import Counter\n",
    "\n",
    "def find_top_3_symbols(string: str) -> list[tuple[str, int]]:\n",
    "    counter = Counter(string.replace(' ', ''))\n",
    "    return counter.most_common(3)\n",
    "\n",
    "string = 'Hello World'\n",
    "find_top_3_symbols(string)"
   ]
  },
  {
   "cell_type": "code",
   "execution_count": 26,
   "id": "61bc1d6a-1364-4341-9ce7-6775b2e208aa",
   "metadata": {},
   "outputs": [
    {
     "data": {
      "text/plain": [
       "{1: 5, 3: 4, 2: 2}"
      ]
     },
     "execution_count": 26,
     "metadata": {},
     "output_type": "execute_result"
    }
   ],
   "source": [
    "# Task 4\n",
    "\n",
    "from collections import Counter\n",
    "\n",
    "def count_it(sequence: str) -> dict[int, int]:\n",
    "    counter = Counter(int(char) for char in sequence)\n",
    "    most_common_numbers: list[tuple[int, int]] = counter.most_common(3)\n",
    "    return dict(most_common_numbers)\n",
    "\n",
    "string = '111112233334586'\n",
    "count_it(string)"
   ]
  },
  {
   "cell_type": "code",
   "execution_count": null,
   "id": "f43d5603-0bad-4b4f-9817-6c9098bd4a5d",
   "metadata": {},
   "outputs": [],
   "source": [
    "# Task 5 (Common methods)\n",
    "\n"
   ]
  },
  {
   "cell_type": "code",
   "execution_count": 97,
   "id": "770a6b11-e202-42b6-9563-bbedd6a4b6c4",
   "metadata": {},
   "outputs": [
    {
     "name": "stdout",
     "output_type": "stream",
     "text": [
      "True\n",
      "True\n"
     ]
    }
   ],
   "source": [
    "# Task 5.1 (Simple chess)\n",
    "\n",
    "def is_under_threat(my_position: list[int, int], opponent_position: list[int, int], opponent_figure: str) -> bool:\n",
    "    if opponent_figure == 'queen':\n",
    "        if (\n",
    "            is_on_horizontal_line(my_position, opponent_position) \n",
    "            or is_on_vertical_line(my_position, opponent_position) \n",
    "            or is_on_diagonal_line(my_position, opponent_position)\n",
    "        ):\n",
    "            return True\n",
    "        else:\n",
    "            return False\n",
    "    elif opponent_figure == 'knight':\n",
    "        return is_under_knight_threat(my_position, opponent_position)\n",
    "    else:\n",
    "        raise ValueError(\"Figure type could be 'queen' or 'knight'\")\n",
    "\n",
    "def is_on_horizontal_line(my_position: list[int, int], opponent_position: list[int, int]) -> bool:\n",
    "    return my_position[0] == opponent_position[0]\n",
    "\n",
    "def is_on_vertical_line(my_position: list[int, int], opponent_position: list[int, int]) -> bool:\n",
    "    return my_position[1] == opponent_position[1]\n",
    "\n",
    "def is_on_diagonal_line(my_position: list[int, int], opponent_position: list[int, int]) -> bool:\n",
    "    return abs(my_position[0] - opponent_position[0]) == abs(my_position[1] - opponent_position[1])\n",
    "\n",
    "def is_under_knight_threat(my_position: list[int, int], opponent_position: list[int, int]) -> bool:\n",
    "    possible_knight_positions = get_possible_knight_positions(opponent_position)\n",
    "    return possible_knight_positions.count(my_position) == 1\n",
    "\n",
    "def get_possible_knight_positions(init_knight_position: list[int, int]) -> list[list[int, int]]:\n",
    "    possible_knight_positions = []\n",
    "\n",
    "    possible_knight_positions.append([init_knight_position[0] + 2, init_knight_position[1] - 1])\n",
    "    possible_knight_positions.append([init_knight_position[0] - 2, init_knight_position[1] - 1])\n",
    "    possible_knight_positions.append([init_knight_position[0] + 2, init_knight_position[1] + 1])\n",
    "    possible_knight_positions.append([init_knight_position[0] - 2, init_knight_position[1] + 1])\n",
    "    possible_knight_positions.append([init_knight_position[0] + 1, init_knight_position[1] - 2])\n",
    "    possible_knight_positions.append([init_knight_position[0] - 1, init_knight_position[1] - 2])\n",
    "    possible_knight_positions.append([init_knight_position[0] + 1, init_knight_position[1] + 2])\n",
    "    possible_knight_positions.append([init_knight_position[0] - 1, init_knight_position[1] + 2])\n",
    "\n",
    "    possible_knight_positions = [\n",
    "        position \n",
    "        for position in possible_knight_positions if (\n",
    "            position[0] < 8 \n",
    "            and position[0] > -1 \n",
    "            and position[1] < 8 \n",
    "            and position[1] > -1\n",
    "        )\n",
    "    ]\n",
    "\n",
    "    return possible_knight_positions\n",
    "    \n",
    "my_position = [3,2]\n",
    "opponent_position = [5,0]\n",
    "opponent_figure = 'queen'\n",
    "print(is_under_threat(my_position, opponent_position, opponent_figure))\n",
    "\n",
    "my_position = [5,1]\n",
    "opponent_position = [3,2]\n",
    "opponent_figure = 'knight'\n",
    "print(is_under_threat(my_position, opponent_position, opponent_figure))"
   ]
  },
  {
   "cell_type": "code",
   "execution_count": 114,
   "id": "3d268bfc-38dd-4521-ae91-308eee718412",
   "metadata": {},
   "outputs": [
    {
     "name": "stdout",
     "output_type": "stream",
     "text": [
      "True\n"
     ]
    }
   ],
   "source": [
    "# Task 5.2 (Complex chess)\n",
    "\n",
    "def is_threatening(my_position: list[int, int], opponent_position: list[int, int]) -> bool:\n",
    "    possible_knight_positions_before_first_step = get_possible_knight_positions(my_position)\n",
    "    is_threatening = possible_knight_positions_before_first_step.count(opponent_position) > 0\n",
    "\n",
    "    if is_threatening:\n",
    "        return True\n",
    "    else:\n",
    "        possible_knight_positions_after_step = []\n",
    "        for performed_step in possible_knight_positions_before_first_step:\n",
    "           possible_knight_positions_after_step.extend(get_possible_knight_positions(performed_step))\n",
    "\n",
    "        return possible_knight_positions_after_step.count(opponent_position) > 0\n",
    "            \n",
    "my_position = [3,2]\n",
    "opponent_position = [7,4]\n",
    "print(is_threatening(my_position, opponent_position))"
   ]
  }
 ],
 "metadata": {
  "kernelspec": {
   "display_name": "Python [conda env:base] *",
   "language": "python",
   "name": "conda-base-py"
  },
  "language_info": {
   "codemirror_mode": {
    "name": "ipython",
    "version": 3
   },
   "file_extension": ".py",
   "mimetype": "text/x-python",
   "name": "python",
   "nbconvert_exporter": "python",
   "pygments_lexer": "ipython3",
   "version": "3.13.5"
  }
 },
 "nbformat": 4,
 "nbformat_minor": 5
}
